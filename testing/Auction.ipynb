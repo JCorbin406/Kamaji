{
 "cells": [
  {
   "cell_type": "code",
   "execution_count": 1,
   "id": "88eb60c1-60d0-425c-bd2d-281fa5c81eea",
   "metadata": {},
   "outputs": [],
   "source": [
    "from sympy import symbols, sqrt, Matrix, simplify, diff, init_printing, lambdify\n",
    "import numpy as np\n",
    "import cvxopt\n",
    "\n",
    "# Enable LaTeX rendering in Jupyter\n",
    "init_printing()\n",
    "\n",
    "# Define variables\n",
    "x1, x2, y1, y2, r, k = symbols('x1 x2 y1 y2 r k')\n",
    "u1x, u1y, u2x, u2y = symbols('u1x u1y u2x u2y')"
   ]
  },
  {
   "cell_type": "code",
   "execution_count": 2,
   "id": "5fab2359-8884-426f-a0ca-468690a555b5",
   "metadata": {},
   "outputs": [],
   "source": [
    "# Define h(x) function\n",
    "h = sqrt((x1-x2)**2 + (y1-y2)**2) - r\n",
    "# Define f(x) and g(x) as matrices\n",
    "f = Matrix([0, 0])\n",
    "g = Matrix([\n",
    "    [1, 0],  # Position derivatives (p1, p2, p3) do not depend on control inputs\n",
    "    [0, 1]\n",
    "])\n",
    "u1 = Matrix([u1x, u1y])\n",
    "u2 = Matrix([u2x, u2y])\n",
    "state_vars1 = Matrix([x1, y1])\n",
    "state_vars2 = Matrix([x2, y2])\n"
   ]
  },
  {
   "cell_type": "code",
   "execution_count": 3,
   "id": "68c01cea-cb4c-4d4c-b4e1-1a03b0035907",
   "metadata": {},
   "outputs": [
    {
     "data": {
      "text/latex": [
       "$\\displaystyle \\left[\\begin{matrix}0\\end{matrix}\\right]$"
      ],
      "text/plain": [
       "[0]"
      ]
     },
     "metadata": {},
     "output_type": "display_data"
    },
    {
     "data": {
      "text/latex": [
       "$\\displaystyle \\left[\\begin{matrix}0\\end{matrix}\\right]$"
      ],
      "text/plain": [
       "[0]"
      ]
     },
     "metadata": {},
     "output_type": "display_data"
    }
   ],
   "source": [
    "# Compute Lf(h) (Lie derivative of h along f)\n",
    "grad_h1 = h.diff(state_vars1).T\n",
    "grad_h2 = h.diff(state_vars2).T\n",
    "Lf1_h = grad_h1 * f\n",
    "Lf2_h = grad_h2 * f\n",
    "display(Lf1_h)\n",
    "display(Lf2_h)"
   ]
  },
  {
   "cell_type": "code",
   "execution_count": 4,
   "id": "a9c32c7e-f4e8-4539-ac77-f323f2bb1261",
   "metadata": {},
   "outputs": [
    {
     "data": {
      "text/latex": [
       "$\\displaystyle \\left[\\begin{matrix}\\frac{x_{1} - x_{2}}{\\sqrt{\\left(x_{1} - x_{2}\\right)^{2} + \\left(y_{1} - y_{2}\\right)^{2}}} & \\frac{y_{1} - y_{2}}{\\sqrt{\\left(x_{1} - x_{2}\\right)^{2} + \\left(y_{1} - y_{2}\\right)^{2}}}\\end{matrix}\\right]$"
      ],
      "text/plain": [
       "⎡          x₁ - x₂                       y₁ - y₂           ⎤\n",
       "⎢────────────────────────────  ────────────────────────────⎥\n",
       "⎢   _________________________     _________________________⎥\n",
       "⎢  ╱          2            2     ╱          2            2 ⎥\n",
       "⎣╲╱  (x₁ - x₂)  + (y₁ - y₂)    ╲╱  (x₁ - x₂)  + (y₁ - y₂)  ⎦"
      ]
     },
     "metadata": {},
     "output_type": "display_data"
    },
    {
     "data": {
      "text/latex": [
       "$\\displaystyle \\left[\\begin{matrix}\\frac{- x_{1} + x_{2}}{\\sqrt{\\left(x_{1} - x_{2}\\right)^{2} + \\left(y_{1} - y_{2}\\right)^{2}}} & \\frac{- y_{1} + y_{2}}{\\sqrt{\\left(x_{1} - x_{2}\\right)^{2} + \\left(y_{1} - y_{2}\\right)^{2}}}\\end{matrix}\\right]$"
      ],
      "text/plain": [
       "⎡          -x₁ + x₂                      -y₁ + y₂          ⎤\n",
       "⎢────────────────────────────  ────────────────────────────⎥\n",
       "⎢   _________________________     _________________________⎥\n",
       "⎢  ╱          2            2     ╱          2            2 ⎥\n",
       "⎣╲╱  (x₁ - x₂)  + (y₁ - y₂)    ╲╱  (x₁ - x₂)  + (y₁ - y₂)  ⎦"
      ]
     },
     "metadata": {},
     "output_type": "display_data"
    }
   ],
   "source": [
    "# Compute Lgh (lie derivative of h along g)\n",
    "Lg1_h = grad_h1 * g\n",
    "Lg2_h = grad_h2 * g\n",
    "display(Lg1_h)\n",
    "display(Lg2_h)"
   ]
  },
  {
   "cell_type": "code",
   "execution_count": 8,
   "id": "7acb4fe4",
   "metadata": {},
   "outputs": [
    {
     "name": "stdout",
     "output_type": "stream",
     "text": [
      "Gamma 1: 0.1\n",
      "Gamma 2: 100.0\n",
      "[[-511.47661624    0.        ]]\n",
      "[[-511.47661624   -0.        ]]\n",
      "[[-1022.95323248     0.        ]]\n"
     ]
    }
   ],
   "source": [
    "sep = 2.0\n",
    "alpha = 2.0\n",
    "\n",
    "a = 0.1\n",
    "beta = 1\n",
    "\n",
    "c1 = 1\n",
    "c2 = 1000\n",
    "\n",
    "gamma1 = a*c1**beta\n",
    "gamma2 = a*c2**beta\n",
    "\n",
    "print(f\"Gamma 1: {gamma1}\")\n",
    "print(f\"Gamma 2: {gamma2}\")\n",
    "\n",
    "Lg1_h_func = lambdify((x1, y1, x2, y2, r), Lg1_h)\n",
    "Lg2_h_func = lambdify((x1, y1, x2, y2, r), Lg2_h)\n",
    "h_func = lambdify((x1, y1, x2, y2, r), h)\n",
    "\n",
    "A1 = Lg1_h_func(-1, 0.01, 1, -0.01, sep)\n",
    "A2 = Lg2_h_func(-1, 0.01, 1, -0.01, sep)\n",
    "# print(A1)\n",
    "# print(A2)\n",
    "b1 = -alpha*h_func(-1, 0.01, 1, -0.01, sep)\n",
    "b2 = -alpha*h_func(-1, 0.01, 1, -0.01, sep)\n",
    "\n",
    "b = b1 + b2 + alpha*h_func(-1, 0.1, 1, -0.1, sep)\n",
    "\n",
    "u1_nom = np.array([10, 0])\n",
    "u2_nom = np.array([-10, 0])\n",
    "\n",
    "k1_hat = A1 * u1_nom / b\n",
    "k2_hat = A2 * u2_nom / b\n",
    "\n",
    "print(k1_hat)\n",
    "print(k2_hat)\n",
    "print(k1_hat+k2_hat)\n"
   ]
  },
  {
   "cell_type": "code",
   "execution_count": 9,
   "id": "fc6d8039",
   "metadata": {},
   "outputs": [
    {
     "name": "stdout",
     "output_type": "stream",
     "text": [
      "(1, 2)\n",
      "(2,)\n",
      "[[-9.99950004  0.        ]]\n"
     ]
    }
   ],
   "source": [
    "print(A1.shape)\n",
    "print(u1_nom.shape)\n",
    "print(A1*u1_nom)"
   ]
  },
  {
   "cell_type": "code",
   "execution_count": 10,
   "id": "9b5ab054",
   "metadata": {},
   "outputs": [
    {
     "name": "stdout",
     "output_type": "stream",
     "text": [
      "[  0.1 100. ]\n",
      "[[-511.47661624    0.        ]\n",
      " [-511.47661624   -0.        ]]\n",
      "(2, 2)\n"
     ]
    },
    {
     "ename": "TypeError",
     "evalue": "'q' must be a 'd' matrix with one column",
     "output_type": "error",
     "traceback": [
      "\u001b[0;31m---------------------------------------------------------------------------\u001b[0m",
      "\u001b[0;31mTypeError\u001b[0m                                 Traceback (most recent call last)",
      "Cell \u001b[0;32mIn[10], line 35\u001b[0m\n\u001b[1;32m     32\u001b[0m h \u001b[38;5;241m=\u001b[39m cvxopt\u001b[38;5;241m.\u001b[39mmatrix(h\u001b[38;5;241m.\u001b[39mastype(\u001b[38;5;28mfloat\u001b[39m))  \u001b[38;5;66;03m# Ensure h is of type float\u001b[39;00m\n\u001b[1;32m     34\u001b[0m \u001b[38;5;66;03m# Solve the QP problem using cvxopt.solvers.qp\u001b[39;00m\n\u001b[0;32m---> 35\u001b[0m sol \u001b[38;5;241m=\u001b[39m \u001b[43mcvxopt\u001b[49m\u001b[38;5;241;43m.\u001b[39;49m\u001b[43msolvers\u001b[49m\u001b[38;5;241;43m.\u001b[39;49m\u001b[43mqp\u001b[49m\u001b[43m(\u001b[49m\u001b[43mH\u001b[49m\u001b[43m,\u001b[49m\u001b[43m \u001b[49m\u001b[43mf\u001b[49m\u001b[43m,\u001b[49m\u001b[43m \u001b[49m\u001b[38;5;28;43;01mNone\u001b[39;49;00m\u001b[43m,\u001b[49m\u001b[43m \u001b[49m\u001b[38;5;28;43;01mNone\u001b[39;49;00m\u001b[43m,\u001b[49m\u001b[43m \u001b[49m\u001b[43mA\u001b[49m\u001b[43m,\u001b[49m\u001b[43m \u001b[49m\u001b[43mb\u001b[49m\u001b[43m)\u001b[49m\n\u001b[1;32m     37\u001b[0m \u001b[38;5;66;03m# Get the solution\u001b[39;00m\n\u001b[1;32m     38\u001b[0m a_i_values \u001b[38;5;241m=\u001b[39m np\u001b[38;5;241m.\u001b[39marray(sol[\u001b[38;5;124m'\u001b[39m\u001b[38;5;124mx\u001b[39m\u001b[38;5;124m'\u001b[39m])\u001b[38;5;241m.\u001b[39mflatten()\n",
      "File \u001b[0;32m~/miniforge3/envs/uam/lib/python3.12/site-packages/cvxopt/coneprog.py:4485\u001b[0m, in \u001b[0;36mqp\u001b[0;34m(P, q, G, h, A, b, solver, kktsolver, initvals, **kwargs)\u001b[0m\n\u001b[1;32m   4475\u001b[0m         pinfres, dinfres \u001b[38;5;241m=\u001b[39m \u001b[38;5;28;01mNone\u001b[39;00m, \u001b[38;5;28;01mNone\u001b[39;00m\n\u001b[1;32m   4477\u001b[0m     \u001b[38;5;28;01mreturn\u001b[39;00m {\u001b[38;5;124m'\u001b[39m\u001b[38;5;124mstatus\u001b[39m\u001b[38;5;124m'\u001b[39m: status, \u001b[38;5;124m'\u001b[39m\u001b[38;5;124mx\u001b[39m\u001b[38;5;124m'\u001b[39m: x, \u001b[38;5;124m'\u001b[39m\u001b[38;5;124ms\u001b[39m\u001b[38;5;124m'\u001b[39m: s, \u001b[38;5;124m'\u001b[39m\u001b[38;5;124my\u001b[39m\u001b[38;5;124m'\u001b[39m: y, \u001b[38;5;124m'\u001b[39m\u001b[38;5;124mz\u001b[39m\u001b[38;5;124m'\u001b[39m: z,\n\u001b[1;32m   4478\u001b[0m         \u001b[38;5;124m'\u001b[39m\u001b[38;5;124mprimal objective\u001b[39m\u001b[38;5;124m'\u001b[39m: pcost, \u001b[38;5;124m'\u001b[39m\u001b[38;5;124mdual objective\u001b[39m\u001b[38;5;124m'\u001b[39m: dcost,\n\u001b[1;32m   4479\u001b[0m         \u001b[38;5;124m'\u001b[39m\u001b[38;5;124mgap\u001b[39m\u001b[38;5;124m'\u001b[39m: gap, \u001b[38;5;124m'\u001b[39m\u001b[38;5;124mrelative gap\u001b[39m\u001b[38;5;124m'\u001b[39m: relgap,\n\u001b[0;32m   (...)\u001b[0m\n\u001b[1;32m   4482\u001b[0m         \u001b[38;5;124m'\u001b[39m\u001b[38;5;124mresidual as primal infeasibility certificate\u001b[39m\u001b[38;5;124m'\u001b[39m: pinfres,\n\u001b[1;32m   4483\u001b[0m         \u001b[38;5;124m'\u001b[39m\u001b[38;5;124mresidual as dual infeasibility certificate\u001b[39m\u001b[38;5;124m'\u001b[39m: dinfres}\n\u001b[0;32m-> 4485\u001b[0m \u001b[38;5;28;01mreturn\u001b[39;00m \u001b[43mconeqp\u001b[49m\u001b[43m(\u001b[49m\u001b[43mP\u001b[49m\u001b[43m,\u001b[49m\u001b[43m \u001b[49m\u001b[43mq\u001b[49m\u001b[43m,\u001b[49m\u001b[43m \u001b[49m\u001b[43mG\u001b[49m\u001b[43m,\u001b[49m\u001b[43m \u001b[49m\u001b[43mh\u001b[49m\u001b[43m,\u001b[49m\u001b[43m \u001b[49m\u001b[38;5;28;43;01mNone\u001b[39;49;00m\u001b[43m,\u001b[49m\u001b[43m \u001b[49m\u001b[43mA\u001b[49m\u001b[43m,\u001b[49m\u001b[43m  \u001b[49m\u001b[43mb\u001b[49m\u001b[43m,\u001b[49m\u001b[43m \u001b[49m\u001b[43minitvals\u001b[49m\u001b[43m,\u001b[49m\u001b[43m \u001b[49m\u001b[43mkktsolver\u001b[49m\u001b[43m \u001b[49m\u001b[38;5;241;43m=\u001b[39;49m\u001b[43m \u001b[49m\u001b[43mkktsolver\u001b[49m\u001b[43m,\u001b[49m\u001b[43m \u001b[49m\u001b[43moptions\u001b[49m\u001b[43m \u001b[49m\u001b[38;5;241;43m=\u001b[39;49m\u001b[43m \u001b[49m\u001b[43moptions\u001b[49m\u001b[43m)\u001b[49m\n",
      "File \u001b[0;32m~/miniforge3/envs/uam/lib/python3.12/site-packages/cvxopt/coneprog.py:1837\u001b[0m, in \u001b[0;36mconeqp\u001b[0;34m(P, q, G, h, dims, A, b, initvals, kktsolver, xnewcopy, xdot, xaxpy, xscal, ynewcopy, ydot, yaxpy, yscal, **kwargs)\u001b[0m\n\u001b[1;32m   1832\u001b[0m     \u001b[38;5;28;01mraise\u001b[39;00m \u001b[38;5;167;01mValueError\u001b[39;00m(\u001b[38;5;124m\"\u001b[39m\u001b[38;5;124muse of non vector type for y requires \u001b[39m\u001b[38;5;124m\"\u001b[39m\\\n\u001b[1;32m   1833\u001b[0m         \u001b[38;5;124m\"\u001b[39m\u001b[38;5;124mfunction valued A and user-provided kktsolver\u001b[39m\u001b[38;5;124m\"\u001b[39m)\n\u001b[1;32m   1836\u001b[0m \u001b[38;5;28;01mif\u001b[39;00m \u001b[38;5;129;01mnot\u001b[39;00m customx \u001b[38;5;129;01mand\u001b[39;00m (\u001b[38;5;129;01mnot\u001b[39;00m \u001b[38;5;28misinstance\u001b[39m(q,matrix) \u001b[38;5;129;01mor\u001b[39;00m q\u001b[38;5;241m.\u001b[39mtypecode \u001b[38;5;241m!=\u001b[39m \u001b[38;5;124m'\u001b[39m\u001b[38;5;124md\u001b[39m\u001b[38;5;124m'\u001b[39m \u001b[38;5;129;01mor\u001b[39;00m q\u001b[38;5;241m.\u001b[39msize[\u001b[38;5;241m1\u001b[39m] \u001b[38;5;241m!=\u001b[39m \u001b[38;5;241m1\u001b[39m):\n\u001b[0;32m-> 1837\u001b[0m     \u001b[38;5;28;01mraise\u001b[39;00m \u001b[38;5;167;01mTypeError\u001b[39;00m(\u001b[38;5;124m\"\u001b[39m\u001b[38;5;124m'\u001b[39m\u001b[38;5;124mq\u001b[39m\u001b[38;5;124m'\u001b[39m\u001b[38;5;124m must be a \u001b[39m\u001b[38;5;124m'\u001b[39m\u001b[38;5;124md\u001b[39m\u001b[38;5;124m'\u001b[39m\u001b[38;5;124m matrix with one column\u001b[39m\u001b[38;5;124m\"\u001b[39m)\n\u001b[1;32m   1839\u001b[0m \u001b[38;5;28;01mif\u001b[39;00m matrixP:\n\u001b[1;32m   1840\u001b[0m     \u001b[38;5;28;01mif\u001b[39;00m P\u001b[38;5;241m.\u001b[39mtypecode \u001b[38;5;241m!=\u001b[39m \u001b[38;5;124m'\u001b[39m\u001b[38;5;124md\u001b[39m\u001b[38;5;124m'\u001b[39m \u001b[38;5;129;01mor\u001b[39;00m P\u001b[38;5;241m.\u001b[39msize \u001b[38;5;241m!=\u001b[39m (q\u001b[38;5;241m.\u001b[39msize[\u001b[38;5;241m0\u001b[39m], q\u001b[38;5;241m.\u001b[39msize[\u001b[38;5;241m0\u001b[39m]):\n",
      "\u001b[0;31mTypeError\u001b[0m: 'q' must be a 'd' matrix with one column"
     ]
    }
   ],
   "source": [
    "n = 2\n",
    "\n",
    "gamma_array = np.array([gamma1, gamma2])\n",
    "k_hat_array = np.array([k1_hat[0], k2_hat[0]])\n",
    "\n",
    "print(gamma_array)\n",
    "print(k_hat_array)\n",
    "\n",
    "# Objective matrix (H) and vector (f) for the quadratic form\n",
    "H = 2 * np.diag(gamma_array)  # Quadratic terms - diagonal matrix (size n x n)\n",
    "f = -2 * gamma_array * k_hat_array  # Linear terms (from the norm)\n",
    "\n",
    "print(f.shape)\n",
    "\n",
    "# Convert f into a cvxopt matrix and reshape it into a column vector (size n x 1)\n",
    "f = cvxopt.matrix(f.astype(float))  # Ensure f is of type float\n",
    "\n",
    "# Constraints matrix (A) and vector (b)\n",
    "A = np.ones((1, n))  # Sum of a_i's must be at least 1\n",
    "b = np.array([1.0])\n",
    "\n",
    "# Bounds on a_i\n",
    "# Assuming a_i >= 0 for all i, hence the lower bound is 0\n",
    "G = -np.eye(n)  # Negative identity matrix for a_i >= 0\n",
    "h = np.zeros(n)\n",
    "\n",
    "# Convert all variables into cvxopt matrices, ensuring correct float type\n",
    "H = cvxopt.matrix(H.astype(float))  # Ensure H is of type float\n",
    "A = cvxopt.matrix(A.astype(float))  # Ensure A is of type float\n",
    "b = cvxopt.matrix(b.astype(float))  # Ensure b is of type float\n",
    "G = cvxopt.matrix(G.astype(float))  # Ensure G is of type float\n",
    "h = cvxopt.matrix(h.astype(float))  # Ensure h is of type float\n",
    "\n",
    "# Solve the QP problem using cvxopt.solvers.qp\n",
    "sol = cvxopt.solvers.qp(H, f, None, None, A, b)\n",
    "\n",
    "# Get the solution\n",
    "a_i_values = np.array(sol['x']).flatten()\n",
    "\n",
    "print(\"Optimal a_i values:\", a_i_values)"
   ]
  },
  {
   "cell_type": "code",
   "execution_count": null,
   "id": "9f1394f6",
   "metadata": {},
   "outputs": [],
   "source": [
    "u1_new = b * a_i_values[0] / A1\n",
    "u2_new = b * a_i_values[1] / A2\n",
    "\n",
    "print(u1_new)\n",
    "print(u2_new)"
   ]
  },
  {
   "cell_type": "code",
   "execution_count": null,
   "id": "27613809",
   "metadata": {},
   "outputs": [],
   "source": []
  }
 ],
 "metadata": {
  "kernelspec": {
   "display_name": "uam",
   "language": "python",
   "name": "python3"
  },
  "language_info": {
   "codemirror_mode": {
    "name": "ipython",
    "version": 3
   },
   "file_extension": ".py",
   "mimetype": "text/x-python",
   "name": "python",
   "nbconvert_exporter": "python",
   "pygments_lexer": "ipython3",
   "version": "3.12.2"
  }
 },
 "nbformat": 4,
 "nbformat_minor": 5
}
