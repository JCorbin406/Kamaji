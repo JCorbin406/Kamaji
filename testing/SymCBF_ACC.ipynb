{
 "cells": [
  {
   "cell_type": "code",
   "execution_count": 9,
   "id": "88eb60c1-60d0-425c-bd2d-281fa5c81eea",
   "metadata": {},
   "outputs": [],
   "source": [
    "from sympy import symbols, sqrt, Matrix, simplify, diff, init_printing, lambdify\n",
    "\n",
    "# Enable LaTeX rendering in Jupyter\n",
    "init_printing()\n",
    "\n",
    "# Define variables\n",
    "x1, x2, x3, x4, x5, x6, xc, yc, zc, r, k1, k2 = symbols('x1 x2 x3 x4 x5 x6 xc yc zc r k1 k2')\n",
    "ux, uy, uz = symbols('ux uy uz')\n",
    "u = symbols('u')\n",
    "a1, a2 = symbols('a1 a2')"
   ]
  },
  {
   "cell_type": "code",
   "execution_count": 7,
   "id": "5fab2359-8884-426f-a0ca-468690a555b5",
   "metadata": {},
   "outputs": [
    {
     "data": {
      "text/latex": [
       "$\\displaystyle \\left[\\begin{matrix}\\frac{x_{1} - xc}{\\sqrt{\\left(x_{1} - xc\\right)^{2} + \\left(x_{2} - yc\\right)^{2} + \\left(x_{3} - zc\\right)^{2}}} & \\frac{x_{2} - yc}{\\sqrt{\\left(x_{1} - xc\\right)^{2} + \\left(x_{2} - yc\\right)^{2} + \\left(x_{3} - zc\\right)^{2}}} & \\frac{x_{3} - zc}{\\sqrt{\\left(x_{1} - xc\\right)^{2} + \\left(x_{2} - yc\\right)^{2} + \\left(x_{3} - zc\\right)^{2}}} & 0 & 0 & 0\\end{matrix}\\right]$"
      ],
      "text/plain": [
       "⎡                 x₁ - xc                                    x₂ - yc           ↪\n",
       "⎢─────────────────────────────────────────  ────────────────────────────────── ↪\n",
       "⎢   ______________________________________     _______________________________ ↪\n",
       "⎢  ╱          2            2            2     ╱          2            2        ↪\n",
       "⎣╲╱  (x₁ - xc)  + (x₂ - yc)  + (x₃ - zc)    ╲╱  (x₁ - xc)  + (x₂ - yc)  + (x₃  ↪\n",
       "\n",
       "↪                           x₃ - zc                          ⎤\n",
       "↪ ───────  ─────────────────────────────────────────  0  0  0⎥\n",
       "↪ _______     ______________________________________         ⎥\n",
       "↪      2     ╱          2            2            2          ⎥\n",
       "↪ - zc)    ╲╱  (x₁ - xc)  + (x₂ - yc)  + (x₃ - zc)           ⎦"
      ]
     },
     "metadata": {},
     "output_type": "display_data"
    },
    {
     "data": {
      "text/latex": [
       "$\\displaystyle \\left[\\begin{matrix}x_{4}\\\\x_{5}\\\\x_{6}\\\\u\\\\u\\\\u\\end{matrix}\\right]$"
      ],
      "text/plain": [
       "⎡x₄⎤\n",
       "⎢  ⎥\n",
       "⎢x₅⎥\n",
       "⎢  ⎥\n",
       "⎢x₆⎥\n",
       "⎢  ⎥\n",
       "⎢u ⎥\n",
       "⎢  ⎥\n",
       "⎢u ⎥\n",
       "⎢  ⎥\n",
       "⎣u ⎦"
      ]
     },
     "metadata": {},
     "output_type": "display_data"
    },
    {
     "data": {
      "text/latex": [
       "$\\displaystyle \\left[\\begin{matrix}\\frac{x_{4} \\left(x_{1} - xc\\right)}{\\sqrt{\\left(x_{1} - xc\\right)^{2} + \\left(x_{2} - yc\\right)^{2} + \\left(x_{3} - zc\\right)^{2}}} + \\frac{x_{5} \\left(x_{2} - yc\\right)}{\\sqrt{\\left(x_{1} - xc\\right)^{2} + \\left(x_{2} - yc\\right)^{2} + \\left(x_{3} - zc\\right)^{2}}} + \\frac{x_{6} \\left(x_{3} - zc\\right)}{\\sqrt{\\left(x_{1} - xc\\right)^{2} + \\left(x_{2} - yc\\right)^{2} + \\left(x_{3} - zc\\right)^{2}}}\\end{matrix}\\right]$"
      ],
      "text/plain": [
       "⎡              x₄⋅(x₁ - xc)                                x₅⋅(x₂ - yc)        ↪\n",
       "⎢───────────────────────────────────────── + ───────────────────────────────── ↪\n",
       "⎢   ______________________________________      ______________________________ ↪\n",
       "⎢  ╱          2            2            2      ╱          2            2       ↪\n",
       "⎣╲╱  (x₁ - xc)  + (x₂ - yc)  + (x₃ - zc)     ╲╱  (x₁ - xc)  + (x₂ - yc)  + (x₃ ↪\n",
       "\n",
       "↪                          x₆⋅(x₃ - zc)               ⎤\n",
       "↪ ──────── + ─────────────────────────────────────────⎥\n",
       "↪ ________      ______________________________________⎥\n",
       "↪       2      ╱          2            2            2 ⎥\n",
       "↪  - zc)     ╲╱  (x₁ - xc)  + (x₂ - yc)  + (x₃ - zc)  ⎦"
      ]
     },
     "metadata": {},
     "output_type": "display_data"
    }
   ],
   "source": [
    "# Define h(x) function\n",
    "h = sqrt((x1 - xc)**2 + (x2 - yc)**2 + (x3 - zc)**2) - r\n",
    "\n",
    "dhdx = Matrix([h]).jacobian([x1, x2, x3, x4, x5, x6])\n",
    "\n",
    "# Define f(x) and g(x) as matrices\n",
    "f = Matrix([x4, x5, x6, 0, 0, 0])\n",
    "g = Matrix([0, 0, 0, 1, 1, 1])\n",
    "\n",
    "x_dot = f + g * u\n",
    "\n",
    "# Display h, f, and g\n",
    "# display(h)\n",
    "# display(f)\n",
    "# display(g)\n",
    "display(dhdx)\n",
    "display(x_dot)\n",
    "display(dhdx * (f+g*u))"
   ]
  },
  {
   "cell_type": "code",
   "execution_count": 8,
   "id": "68c01cea-cb4c-4d4c-b4e1-1a03b0035907",
   "metadata": {},
   "outputs": [
    {
     "data": {
      "image/png": "[encoded data removed]",
      "text/latex": [
       "$\\displaystyle \\frac{x_{4} \\left(x_{1} - xc\\right)}{\\sqrt{\\left(x_{1} - xc\\right)^{2} + \\left(x_{2} - yc\\right)^{2} + \\left(x_{3} - zc\\right)^{2}}} + \\frac{x_{5} \\left(x_{2} - yc\\right)}{\\sqrt{\\left(x_{1} - xc\\right)^{2} + \\left(x_{2} - yc\\right)^{2} + \\left(x_{3} - zc\\right)^{2}}} + \\frac{x_{6} \\left(x_{3} - zc\\right)}{\\sqrt{\\left(x_{1} - xc\\right)^{2} + \\left(x_{2} - yc\\right)^{2} + \\left(x_{3} - zc\\right)^{2}}}$"
      ],
      "text/plain": [
       "              x₄⋅(x₁ - xc)                                x₅⋅(x₂ - yc)         ↪\n",
       "───────────────────────────────────────── + ────────────────────────────────── ↪\n",
       "   ______________________________________      _______________________________ ↪\n",
       "  ╱          2            2            2      ╱          2            2        ↪\n",
       "╲╱  (x₁ - xc)  + (x₂ - yc)  + (x₃ - zc)     ╲╱  (x₁ - xc)  + (x₂ - yc)  + (x₃  ↪\n",
       "\n",
       "↪                         x₆⋅(x₃ - zc)               \n",
       "↪ ─────── + ─────────────────────────────────────────\n",
       "↪ _______      ______________________________________\n",
       "↪      2      ╱          2            2            2 \n",
       "↪ - zc)     ╲╱  (x₁ - xc)  + (x₂ - yc)  + (x₃ - zc)  "
      ]
     },
     "metadata": {},
     "output_type": "display_data"
    }
   ],
   "source": [
    "# Compute Lf(h) (Lie derivative of h along f)\n",
    "Lf_h = sum(diff(h, x_i) * f[i] for i, x_i in enumerate([x1, x2, x3, x4, x5, x6]))\n",
    "display(Lf_h)"
   ]
  },
  {
   "cell_type": "code",
   "execution_count": null,
   "id": "a9c32c7e-f4e8-4539-ac77-f323f2bb1261",
   "metadata": {},
   "outputs": [],
   "source": [
    "# Compute Lgh (lie derivative of h along g)\n",
    "Lg_h = sum(diff(h, x_i) * g[i] for i, x_i in enumerate([x1, x2, x3, x4, x5, x6]))\n",
    "display(Lg_h)"
   ]
  },
  {
   "cell_type": "code",
   "execution_count": null,
   "id": "965544c5-37a8-47f6-9426-64b96158493b",
   "metadata": {},
   "outputs": [],
   "source": [
    "# Compute Lf2(h) (second Lie derivative along f)\n",
    "Lf2_h = sum(diff(Lf_h, x_i) * f[i] for i, x_i in enumerate([x1, x2, x3, x4, x5, x6]))\n",
    "display(Lf2_h)"
   ]
  },
  {
   "cell_type": "code",
   "execution_count": null,
   "id": "d0cbdf1b-d339-4925-93b3-ac6dcfdac95e",
   "metadata": {},
   "outputs": [],
   "source": [
    "# Compute LgLf(h) (Lie derivative of Lf(h) along g)\n",
    "Lg_Lf_h = sum(diff(Lf_h, x_i) * g[i] for i, x_i in enumerate([x1, x2, x3, x4, x5, x6]))\n",
    "display(Lg_Lf_h)"
   ]
  },
  {
   "cell_type": "code",
   "execution_count": 7,
   "id": "16270db2-e115-4e07-9a11-33fb28218dd6",
   "metadata": {},
   "outputs": [],
   "source": [
    "h_func = lambdify((x1, xc, x2, yc, x3, zc, r), h)\n",
    "f_func = lambdify((x4, x5, x6), f)\n",
    "g_func = lambdify((), g)\n",
    "Lf_h_func = lambdify((x1, xc, x2, yc, x3, zc, x4, x5, x6), Lf_h)\n",
    "Lg_h_func = lambdify((), Lg_h)\n",
    "Lf2_h_func = lambdify((x1, xc, x2, yc, x3, zc, x4, x5, x6), Lf2_h)\n",
    "Lg_Lf_h_func = lambdify((x1, xc, x2, yc, x3, zc, x4, x5, x6), Lg_Lf_h)\n"
   ]
  },
  {
   "cell_type": "code",
   "execution_count": null,
   "id": "cf238f3d",
   "metadata": {},
   "outputs": [],
   "source": [
    "_x1 = 0\n",
    "_x2 = 0\n",
    "_x3 = 0\n",
    "_xc = 5\n",
    "_yc = 5\n",
    "_zc = 5\n",
    "_r = 1.0\n",
    "_x4 = 1.0\n",
    "_x5 = 0.5\n",
    "_x6 = 0.5\n",
    "\n",
    "s1 = h_func(_x1, _xc, _x2, _yc, _x3, _zc, _r)\n",
    "f_func(_x4, _x5, _x6)\n",
    "g_func()\n",
    "s5 = Lf_h_func(_x1, _xc, _x2, _yc, _x3, _zc, _x4, _x5, _x6)\n",
    "s2 = Lg_h_func()\n",
    "s3 = Lf2_h_func(_x1, _xc, _x2, _yc, _x3, _zc, _x4, _x5, _x6)\n",
    "s4 = Lg_Lf_h_func(_x1, _xc, _x2, _yc, _x3, _zc, _x4, _x5, _x6)\n",
    "\n",
    "display(s1, s2, s3, s4, s5)"
   ]
  },
  {
   "cell_type": "code",
   "execution_count": null,
   "id": "7c81c6e5",
   "metadata": {},
   "outputs": [],
   "source": [
    "test1 = s3 + s5*(0.5+0.5) + 0.5*0.5*s1\n",
    "test2 = -s4\n",
    "\n",
    "display(test1)\n",
    "display(test2)"
   ]
  },
  {
   "cell_type": "code",
   "execution_count": null,
   "id": "9f56c858",
   "metadata": {},
   "outputs": [],
   "source": [
    "psi0 = h\n",
    "psi1 = Lf_h + a2*psi0\n",
    "test = Lf2_h + Lg_Lf_h*u + "
   ]
  }
 ],
 "metadata": {
  "kernelspec": {
   "display_name": "uam",
   "language": "python",
   "name": "python3"
  },
  "language_info": {
   "codemirror_mode": {
    "name": "ipython",
    "version": 3
   },
   "file_extension": ".py",
   "mimetype": "text/x-python",
   "name": "python",
   "nbconvert_exporter": "python",
   "pygments_lexer": "ipython3",
   "version": "3.12.0"
  }
 },
 "nbformat": 4,
 "nbformat_minor": 5
}
